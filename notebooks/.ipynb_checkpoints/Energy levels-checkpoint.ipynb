{
 "cells": [
  {
   "cell_type": "markdown",
   "metadata": {},
   "source": [
    "# Cálculos en Ln3+\n",
    "\n",
    "Paquete con cálculo de energías de Lantánidos. Las fistribuciones de energía fueron extraídas del trabajos de Carnall et al (1978). Los parámetros de JO.\n",
    "Por ahora está implementado el ion Er3+"
   ]
  },
  {
   "cell_type": "code",
   "execution_count": 32,
   "metadata": {},
   "outputs": [],
   "source": [
    "import pandas as pd\n",
    "import matplotlib.pyplot as plt\n",
    "from IPython.display import display, Math\n",
    "\n",
    "from pyucnp import data\n",
    "from pyucnp.ions import Erbium\n",
    "from pyucnp.math import wavenumber_to_nm\n",
    "\n",
    "er = Erbium()"
   ]
  },
  {
   "cell_type": "markdown",
   "metadata": {},
   "source": [
    "Puedo primero ver cuales son los estados excitables del ion"
   ]
  },
  {
   "cell_type": "code",
   "execution_count": 5,
   "metadata": {},
   "outputs": [
    {
     "name": "stdout",
     "output_type": "stream",
     "text": [
      "['4I' '4F' '4S' '2H2' '4G' '2K' '2P' '2D1' '4D' '2I' '2L' '2H1' '2D2']\n"
     ]
    }
   ],
   "source": [
    "print(er.available_states())"
   ]
  },
  {
   "cell_type": "markdown",
   "metadata": {},
   "source": [
    "Y una vez hecho esto calcular las energías medias de cada nivel (estado+J)"
   ]
  },
  {
   "cell_type": "code",
   "execution_count": 57,
   "metadata": {},
   "outputs": [
    {
     "data": {
      "text/html": [
       "<div>\n",
       "<style scoped>\n",
       "    .dataframe tbody tr th:only-of-type {\n",
       "        vertical-align: middle;\n",
       "    }\n",
       "\n",
       "    .dataframe tbody tr th {\n",
       "        vertical-align: top;\n",
       "    }\n",
       "\n",
       "    .dataframe thead th {\n",
       "        text-align: right;\n",
       "    }\n",
       "</style>\n",
       "<table border=\"1\" class=\"dataframe\">\n",
       "  <thead>\n",
       "    <tr style=\"text-align: right;\">\n",
       "      <th></th>\n",
       "      <th></th>\n",
       "      <th>calculated</th>\n",
       "    </tr>\n",
       "    <tr>\n",
       "      <th>state</th>\n",
       "      <th>j</th>\n",
       "      <th></th>\n",
       "    </tr>\n",
       "  </thead>\n",
       "  <tbody>\n",
       "    <tr>\n",
       "      <th>2D1</th>\n",
       "      <th>5/2</th>\n",
       "      <td>35062.333333</td>\n",
       "    </tr>\n",
       "    <tr>\n",
       "      <th>2D2</th>\n",
       "      <th>5/2</th>\n",
       "      <td>49282.000000</td>\n",
       "    </tr>\n",
       "    <tr>\n",
       "      <th rowspan=\"2\" valign=\"top\">2H1</th>\n",
       "      <th>11/2</th>\n",
       "      <td>51413.833333</td>\n",
       "    </tr>\n",
       "    <tr>\n",
       "      <th>9/2</th>\n",
       "      <td>48433.800000</td>\n",
       "    </tr>\n",
       "    <tr>\n",
       "      <th rowspan=\"2\" valign=\"top\">2H2</th>\n",
       "      <th>11/2</th>\n",
       "      <td>19330.333333</td>\n",
       "    </tr>\n",
       "    <tr>\n",
       "      <th>9/2</th>\n",
       "      <td>36643.000000</td>\n",
       "    </tr>\n",
       "    <tr>\n",
       "      <th rowspan=\"2\" valign=\"top\">2I</th>\n",
       "      <th>11/2</th>\n",
       "      <td>41353.666667</td>\n",
       "    </tr>\n",
       "    <tr>\n",
       "      <th>13/2</th>\n",
       "      <td>43800.857143</td>\n",
       "    </tr>\n",
       "    <tr>\n",
       "      <th rowspan=\"3\" valign=\"top\">2K</th>\n",
       "      <th>1/2</th>\n",
       "      <td>33317.000000</td>\n",
       "    </tr>\n",
       "    <tr>\n",
       "      <th>13/2</th>\n",
       "      <td>33186.857143</td>\n",
       "    </tr>\n",
       "    <tr>\n",
       "      <th>15/2</th>\n",
       "      <td>27925.250000</td>\n",
       "    </tr>\n",
       "    <tr>\n",
       "      <th rowspan=\"2\" valign=\"top\">2L</th>\n",
       "      <th>15/2</th>\n",
       "      <td>48057.875000</td>\n",
       "    </tr>\n",
       "    <tr>\n",
       "      <th>17/2</th>\n",
       "      <td>41928.333333</td>\n",
       "    </tr>\n",
       "    <tr>\n",
       "      <th>2P</th>\n",
       "      <th>3/2</th>\n",
       "      <td>31738.000000</td>\n",
       "    </tr>\n",
       "    <tr>\n",
       "      <th rowspan=\"4\" valign=\"top\">4D</th>\n",
       "      <th>3/2</th>\n",
       "      <td>42697.000000</td>\n",
       "    </tr>\n",
       "    <tr>\n",
       "      <th>5/2</th>\n",
       "      <td>38827.000000</td>\n",
       "    </tr>\n",
       "    <tr>\n",
       "      <th>7/1</th>\n",
       "      <td>47313.000000</td>\n",
       "    </tr>\n",
       "    <tr>\n",
       "      <th>7/2</th>\n",
       "      <td>39464.750000</td>\n",
       "    </tr>\n",
       "    <tr>\n",
       "      <th rowspan=\"4\" valign=\"top\">4F</th>\n",
       "      <th>3/2</th>\n",
       "      <td>22715.000000</td>\n",
       "    </tr>\n",
       "    <tr>\n",
       "      <th>5/2</th>\n",
       "      <td>22377.333333</td>\n",
       "    </tr>\n",
       "    <tr>\n",
       "      <th>7/2</th>\n",
       "      <td>20719.250000</td>\n",
       "    </tr>\n",
       "    <tr>\n",
       "      <th>9/2</th>\n",
       "      <td>19222.000000</td>\n",
       "    </tr>\n",
       "    <tr>\n",
       "      <th rowspan=\"4\" valign=\"top\">4G</th>\n",
       "      <th>11/2</th>\n",
       "      <td>26617.166667</td>\n",
       "    </tr>\n",
       "    <tr>\n",
       "      <th>5/2</th>\n",
       "      <td>33529.666667</td>\n",
       "    </tr>\n",
       "    <tr>\n",
       "      <th>7/2</th>\n",
       "      <td>30229.750000</td>\n",
       "    </tr>\n",
       "    <tr>\n",
       "      <th>9/2</th>\n",
       "      <td>26431.000000</td>\n",
       "    </tr>\n",
       "    <tr>\n",
       "      <th rowspan=\"4\" valign=\"top\">4I</th>\n",
       "      <th>11/2</th>\n",
       "      <td>10343.166667</td>\n",
       "    </tr>\n",
       "    <tr>\n",
       "      <th>13/2</th>\n",
       "      <td>6707.000000</td>\n",
       "    </tr>\n",
       "    <tr>\n",
       "      <th>15/2</th>\n",
       "      <td>212.125000</td>\n",
       "    </tr>\n",
       "    <tr>\n",
       "      <th>9/2</th>\n",
       "      <td>12594.200000</td>\n",
       "    </tr>\n",
       "    <tr>\n",
       "      <th>4S</th>\n",
       "      <th>3/2</th>\n",
       "      <td>18573.500000</td>\n",
       "    </tr>\n",
       "  </tbody>\n",
       "</table>\n",
       "</div>"
      ],
      "text/plain": [
       "              calculated\n",
       "state j                 \n",
       "2D1   5/2   35062.333333\n",
       "2D2   5/2   49282.000000\n",
       "2H1   11/2  51413.833333\n",
       "      9/2   48433.800000\n",
       "2H2   11/2  19330.333333\n",
       "      9/2   36643.000000\n",
       "2I    11/2  41353.666667\n",
       "      13/2  43800.857143\n",
       "2K    1/2   33317.000000\n",
       "      13/2  33186.857143\n",
       "      15/2  27925.250000\n",
       "2L    15/2  48057.875000\n",
       "      17/2  41928.333333\n",
       "2P    3/2   31738.000000\n",
       "4D    3/2   42697.000000\n",
       "      5/2   38827.000000\n",
       "      7/1   47313.000000\n",
       "      7/2   39464.750000\n",
       "4F    3/2   22715.000000\n",
       "      5/2   22377.333333\n",
       "      7/2   20719.250000\n",
       "      9/2   19222.000000\n",
       "4G    11/2  26617.166667\n",
       "      5/2   33529.666667\n",
       "      7/2   30229.750000\n",
       "      9/2   26431.000000\n",
       "4I    11/2  10343.166667\n",
       "      13/2   6707.000000\n",
       "      15/2    212.125000\n",
       "      9/2   12594.200000\n",
       "4S    3/2   18573.500000"
      ]
     },
     "execution_count": 57,
     "metadata": {},
     "output_type": "execute_result"
    }
   ],
   "source": [
    "er.energy_levels(units='wavenumber')"
   ]
  },
  {
   "cell_type": "markdown",
   "metadata": {},
   "source": [
    "O de algún estado particular, por ejemplo la transición 4G 11/2 al fundamental en nanómetros se puede obtener según"
   ]
  },
  {
   "cell_type": "code",
   "execution_count": 55,
   "metadata": {},
   "outputs": [
    {
     "name": "stdout",
     "output_type": "stream",
     "text": [
      "Transition from 4G11/2 to ground state\n"
     ]
    },
    {
     "data": {
      "text/latex": [
       "$\\displaystyle 4G_{11/2} \\rightarrow 4I_{15/2}: 26617.2\\; cm^{-1} = 375.7\\;nm$"
      ],
      "text/plain": [
       "<IPython.core.display.Math object>"
      ]
     },
     "metadata": {},
     "output_type": "display_data"
    }
   ],
   "source": [
    "energy = er.mean_energy(('4G', '11/2'))[0]\n",
    "f\"Transition 4G 11/2 -> 4I 15/2 is {energy:.1f} cm^-1 or {wavenumber_to_nm(energy):.1f} nm\"\n",
    "# wavenumber_to_nm(er.mean_energy('4G', '11/2'))\n",
    "print(\"Transition from 4G11/2 to ground state\")\n",
    "display(Math(fr\"4G_{{11/2}} \\rightarrow 4I_{{15/2}}: {energy:.1f}\\; cm^{{-1}} = {wavenumber_to_nm(energy):.1f}\\;nm\"))"
   ]
  },
  {
   "cell_type": "code",
   "execution_count": null,
   "metadata": {},
   "outputs": [],
   "source": []
  }
 ],
 "metadata": {
  "kernelspec": {
   "display_name": "Python 3",
   "language": "python",
   "name": "python3"
  },
  "language_info": {
   "codemirror_mode": {
    "name": "ipython",
    "version": 3
   },
   "file_extension": ".py",
   "mimetype": "text/x-python",
   "name": "python",
   "nbconvert_exporter": "python",
   "pygments_lexer": "ipython3",
   "version": "3.7.1"
  }
 },
 "nbformat": 4,
 "nbformat_minor": 2
}
